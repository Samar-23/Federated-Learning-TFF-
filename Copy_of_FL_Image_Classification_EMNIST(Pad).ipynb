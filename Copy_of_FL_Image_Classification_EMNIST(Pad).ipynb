{
  "cells": [
    {
      "cell_type": "code",
      "execution_count": null,
      "metadata": {
        "id": "PPM5M5Y3r9L7",
        "colab": {
          "base_uri": "https://localhost:8080/"
        },
        "outputId": "7b32c2e7-2d96-480d-e6dc-855e62db411b"
      },
      "outputs": [
        {
          "output_type": "stream",
          "name": "stdout",
          "text": [
            "\u001b[K     |████████████████████████████████| 819 kB 33.2 MB/s \n",
            "\u001b[K     |████████████████████████████████| 4.0 MB 47.8 MB/s \n",
            "\u001b[K     |████████████████████████████████| 237 kB 76.3 MB/s \n",
            "\u001b[K     |████████████████████████████████| 126 kB 64.4 MB/s \n",
            "\u001b[K     |████████████████████████████████| 65.1 MB 102 kB/s \n",
            "\u001b[K     |████████████████████████████████| 251 kB 54.6 MB/s \n",
            "\u001b[K     |████████████████████████████████| 887 kB 11.7 MB/s \n",
            "\u001b[K     |████████████████████████████████| 53 kB 1.9 MB/s \n",
            "\u001b[K     |████████████████████████████████| 121 kB 52.5 MB/s \n",
            "\u001b[K     |████████████████████████████████| 45 kB 2.0 MB/s \n",
            "\u001b[K     |████████████████████████████████| 4.3 MB 44.0 MB/s \n",
            "\u001b[K     |████████████████████████████████| 98 kB 7.2 MB/s \n",
            "\u001b[?25h  Building wheel for jax (setup.py) ... \u001b[?25l\u001b[?25hdone\n",
            "\u001b[31mERROR: pip's dependency resolver does not currently take into account all the packages that are installed. This behaviour is the source of the following dependency conflicts.\n",
            "spacy 3.3.1 requires tqdm<5.0.0,>=4.38.0, but you have tqdm 4.28.1 which is incompatible.\n",
            "pymc3 3.11.4 requires cachetools>=4.2.1, but you have cachetools 3.1.1 which is incompatible.\n",
            "panel 0.12.1 requires tqdm>=4.48.0, but you have tqdm 4.28.1 which is incompatible.\n",
            "fbprophet 0.7.1 requires tqdm>=4.36.1, but you have tqdm 4.28.1 which is incompatible.\n",
            "datascience 0.10.6 requires folium==0.2.1, but you have folium 0.8.3 which is incompatible.\u001b[0m\n"
          ]
        }
      ],
      "source": [
        "#!pip install keras==2.1.6\n",
        "!pip install --quiet --upgrade tensorflow-federated==0.20.0\n",
        "!pip install --quiet --upgrade nest-asyncio\n",
        "\n",
        "import nest_asyncio\n",
        "nest_asyncio.apply()"
      ]
    },
    {
      "cell_type": "code",
      "execution_count": null,
      "metadata": {
        "id": "yerSkYmrtPh6"
      },
      "outputs": [],
      "source": [
        "%load_ext tensorboard"
      ]
    },
    {
      "cell_type": "code",
      "execution_count": null,
      "metadata": {
        "id": "QDPUfgqUYkAE"
      },
      "outputs": [],
      "source": [
        "import numpy as np\n",
        "import tensorflow as tf\n",
        "import tensorflow_federated as tff\n",
        "import matplotlib.pyplot as plt"
      ]
    },
    {
      "cell_type": "code",
      "execution_count": null,
      "metadata": {
        "id": "E09iEsBkruo-",
        "colab": {
          "base_uri": "https://localhost:8080/"
        },
        "outputId": "3f66be4c-fe67-4344-c832-ff35e759bce7"
      },
      "outputs": [
        {
          "output_type": "stream",
          "name": "stderr",
          "text": [
            "Downloading emnist_all.sqlite.lzma: 100%|██████████| 170507172/170507172 [00:38<00:00, 2724937.27it/s]\n"
          ]
        }
      ],
      "source": [
        "train_data,test_data=tff.simulation.datasets.emnist.load_data()"
      ]
    },
    {
      "cell_type": "code",
      "execution_count": null,
      "metadata": {
        "id": "Gpx8WhjEF_O8",
        "colab": {
          "base_uri": "https://localhost:8080/",
          "height": 35
        },
        "outputId": "4dddc29a-73c2-4d22-88da-d6b1905bf099"
      },
      "outputs": [
        {
          "output_type": "execute_result",
          "data": {
            "text/plain": [
              "'f0000_14'"
            ],
            "application/vnd.google.colaboratory.intrinsic+json": {
              "type": "string"
            }
          },
          "metadata": {},
          "execution_count": 5
        }
      ],
      "source": [
        "train_data.client_ids[0]"
      ]
    },
    {
      "cell_type": "code",
      "source": [
        "train_data"
      ],
      "metadata": {
        "id": "1R0JTIpp8qv8",
        "colab": {
          "base_uri": "https://localhost:8080/"
        },
        "outputId": "109041b0-71cd-40c7-e539-c3879f2fa30b"
      },
      "execution_count": null,
      "outputs": [
        {
          "output_type": "execute_result",
          "data": {
            "text/plain": [
              "<tensorflow_federated.python.simulation.datasets.client_data.PreprocessClientData at 0x7f11bf220390>"
            ]
          },
          "metadata": {},
          "execution_count": 6
        }
      ]
    },
    {
      "cell_type": "code",
      "execution_count": null,
      "metadata": {
        "id": "wrgQgTfhGHrk",
        "colab": {
          "base_uri": "https://localhost:8080/"
        },
        "outputId": "54c655a2-9b84-4302-c562-b3bb49d49f61"
      },
      "outputs": [
        {
          "output_type": "execute_result",
          "data": {
            "text/plain": [
              "OrderedDict([('label', TensorSpec(shape=(), dtype=tf.int32, name=None)),\n",
              "             ('pixels',\n",
              "              TensorSpec(shape=(28, 28), dtype=tf.float32, name=None))])"
            ]
          },
          "metadata": {},
          "execution_count": 7
        }
      ],
      "source": [
        "train_data.element_type_structure"
      ]
    },
    {
      "cell_type": "code",
      "execution_count": null,
      "metadata": {
        "id": "DZCk3QUzGxxe",
        "colab": {
          "base_uri": "https://localhost:8080/"
        },
        "outputId": "a99cd9fa-7521-4944-aecf-74becdc8f255"
      },
      "outputs": [
        {
          "output_type": "stream",
          "name": "stdout",
          "text": [
            "1\n",
            "\n",
            "[[1.         1.         1.         1.         1.         1.\n",
            "  1.         1.         1.         1.         1.         1.\n",
            "  1.         1.         1.         1.         1.         1.\n",
            "  1.         1.         1.         1.         1.         1.\n",
            "  1.         1.         1.         1.        ]\n",
            " [1.         1.         1.         1.         1.         1.\n",
            "  1.         1.         1.         1.         1.         1.\n",
            "  1.         1.         1.         1.         1.         1.\n",
            "  1.         1.         1.         1.         1.         1.\n",
            "  1.         1.         1.         1.        ]\n",
            " [1.         1.         1.         1.         1.         1.\n",
            "  1.         1.         1.         1.         1.         1.\n",
            "  1.         1.         1.         1.         1.         1.\n",
            "  1.         1.         1.         1.         1.         1.\n",
            "  1.         1.         1.         1.        ]\n",
            " [1.         1.         1.         1.         1.         1.\n",
            "  1.         1.         1.         1.         1.         1.\n",
            "  1.         1.         1.         1.         1.         1.\n",
            "  1.         1.         1.         1.         1.         1.\n",
            "  1.         1.         1.         1.        ]\n",
            " [1.         1.         1.         1.         1.         1.\n",
            "  1.         1.         1.         1.         1.         1.\n",
            "  1.         1.         1.         1.         1.         1.\n",
            "  1.         1.         1.         1.         1.         1.\n",
            "  1.         1.         1.         1.        ]\n",
            " [1.         1.         1.         1.         1.         1.\n",
            "  1.         1.         1.         1.         1.         1.\n",
            "  1.         1.         1.         1.         1.         1.\n",
            "  1.         1.         1.         1.         1.         1.\n",
            "  1.         1.         1.         1.        ]\n",
            " [1.         1.         1.         1.         1.         1.\n",
            "  1.         1.         1.         1.         1.         1.\n",
            "  1.         1.         1.         1.         1.         1.\n",
            "  1.         1.         1.         1.         1.         1.\n",
            "  1.         1.         1.         1.        ]\n",
            " [1.         1.         1.         1.         1.         1.\n",
            "  1.         1.         1.         1.         1.         1.\n",
            "  1.         1.         1.         1.         1.         1.\n",
            "  1.         1.         1.         1.         1.         1.\n",
            "  1.         1.         1.         1.        ]\n",
            " [1.         1.         1.         1.         1.         1.\n",
            "  1.         1.         1.         1.         1.         1.\n",
            "  1.         1.         1.         1.         1.         1.\n",
            "  1.         1.         1.         1.         1.         1.\n",
            "  1.         1.         1.         1.        ]\n",
            " [1.         1.         1.         1.         1.         1.\n",
            "  1.         1.         1.         1.         1.         1.\n",
            "  1.         1.         0.99215686 1.         1.         1.\n",
            "  1.         1.         1.         1.         1.         1.\n",
            "  1.         1.         1.         1.        ]\n",
            " [1.         1.         1.         1.         1.         1.\n",
            "  1.         1.         1.         1.         1.         1.\n",
            "  1.         0.99607843 1.         1.         1.         1.\n",
            "  1.         1.         1.         1.         1.         1.\n",
            "  1.         1.         1.         1.        ]\n",
            " [1.         1.         1.         1.         1.         1.\n",
            "  1.         1.         1.         1.         1.         1.\n",
            "  0.9882353  1.         0.45882353 0.6862745  1.         0.9882353\n",
            "  1.         1.         1.         1.         1.         1.\n",
            "  1.         1.         1.         1.        ]\n",
            " [1.         1.         1.         1.         1.         1.\n",
            "  1.         1.         1.         1.         1.         0.99607843\n",
            "  0.99215686 0.92941177 0.15294118 0.88235295 1.         0.99607843\n",
            "  1.         1.         1.         1.         1.         1.\n",
            "  1.         1.         1.         1.        ]\n",
            " [1.         1.         1.         1.         1.         1.\n",
            "  1.         1.         1.         1.         1.         0.9843137\n",
            "  1.         0.53333336 0.21176471 1.         0.9882353  1.\n",
            "  1.         1.         1.         1.         1.         1.\n",
            "  1.         1.         1.         1.        ]\n",
            " [1.         1.         1.         1.         1.         1.\n",
            "  1.         1.         1.         1.         0.99215686 0.99607843\n",
            "  0.89411765 0.10588235 0.7607843  0.99607843 0.9882353  1.\n",
            "  1.         1.         1.         1.         1.         1.\n",
            "  1.         1.         1.         1.        ]\n",
            " [1.         1.         1.         1.         1.         1.\n",
            "  1.         1.         1.         1.         0.9882353  1.\n",
            "  0.28627452 0.5019608  1.         0.9882353  1.         1.\n",
            "  1.         1.         1.         1.         1.         1.\n",
            "  1.         1.         1.         1.        ]\n",
            " [1.         1.         1.         1.         1.         1.\n",
            "  1.         1.         1.         1.         1.         1.\n",
            "  0.85490197 1.         0.99215686 1.         1.         1.\n",
            "  1.         1.         1.         1.         1.         1.\n",
            "  1.         1.         1.         1.        ]\n",
            " [1.         1.         1.         1.         1.         1.\n",
            "  1.         1.         1.         1.         1.         1.\n",
            "  1.         0.99607843 1.         1.         1.         1.\n",
            "  1.         1.         1.         1.         1.         1.\n",
            "  1.         1.         1.         1.        ]\n",
            " [1.         1.         1.         1.         1.         1.\n",
            "  1.         1.         1.         1.         1.         1.\n",
            "  0.99215686 1.         1.         1.         1.         1.\n",
            "  1.         1.         1.         1.         1.         1.\n",
            "  1.         1.         1.         1.        ]\n",
            " [1.         1.         1.         1.         1.         1.\n",
            "  1.         1.         1.         1.         1.         1.\n",
            "  1.         1.         1.         1.         1.         1.\n",
            "  1.         1.         1.         1.         1.         1.\n",
            "  1.         1.         1.         1.        ]\n",
            " [1.         1.         1.         1.         1.         1.\n",
            "  1.         1.         1.         1.         1.         1.\n",
            "  1.         1.         1.         1.         1.         1.\n",
            "  1.         1.         1.         1.         1.         1.\n",
            "  1.         1.         1.         1.        ]\n",
            " [1.         1.         1.         1.         1.         1.\n",
            "  1.         1.         1.         1.         1.         1.\n",
            "  1.         1.         1.         1.         1.         1.\n",
            "  1.         1.         1.         1.         1.         1.\n",
            "  1.         1.         1.         1.        ]\n",
            " [1.         1.         1.         1.         1.         1.\n",
            "  1.         1.         1.         1.         1.         1.\n",
            "  1.         1.         1.         1.         1.         1.\n",
            "  1.         1.         1.         1.         1.         1.\n",
            "  1.         1.         1.         1.        ]\n",
            " [1.         1.         1.         1.         1.         1.\n",
            "  1.         1.         1.         1.         1.         1.\n",
            "  1.         1.         1.         1.         1.         1.\n",
            "  1.         1.         1.         1.         1.         1.\n",
            "  1.         1.         1.         1.        ]\n",
            " [1.         1.         1.         1.         1.         1.\n",
            "  1.         1.         1.         1.         1.         1.\n",
            "  1.         1.         1.         1.         1.         1.\n",
            "  1.         1.         1.         1.         1.         1.\n",
            "  1.         1.         1.         1.        ]\n",
            " [1.         1.         1.         1.         1.         1.\n",
            "  1.         1.         1.         1.         1.         1.\n",
            "  1.         1.         1.         1.         1.         1.\n",
            "  1.         1.         1.         1.         1.         1.\n",
            "  1.         1.         1.         1.        ]\n",
            " [1.         1.         1.         1.         1.         1.\n",
            "  1.         1.         1.         1.         1.         1.\n",
            "  1.         1.         1.         1.         1.         1.\n",
            "  1.         1.         1.         1.         1.         1.\n",
            "  1.         1.         1.         1.        ]\n",
            " [1.         1.         1.         1.         1.         1.\n",
            "  1.         1.         1.         1.         1.         1.\n",
            "  1.         1.         1.         1.         1.         1.\n",
            "  1.         1.         1.         1.         1.         1.\n",
            "  1.         1.         1.         1.        ]]\n"
          ]
        }
      ],
      "source": [
        "dataset=train_data.create_tf_dataset_for_client(train_data.client_ids[0])\n",
        "first=next(iter(dataset))\n",
        "print(first['label'].numpy())\n",
        "print()\n",
        "print(first['pixels'].numpy())"
      ]
    },
    {
      "cell_type": "code",
      "execution_count": null,
      "metadata": {
        "id": "4NbM9RgDHB1V",
        "colab": {
          "base_uri": "https://localhost:8080/",
          "height": 265
        },
        "outputId": "3ef9ccd8-6e06-4470-882f-a6c36b71bcc8"
      },
      "outputs": [
        {
          "output_type": "display_data",
          "data": {
            "text/plain": [
              "<Figure size 432x288 with 1 Axes>"
            ],
            "image/png": "[encoded data removed]"
          },
          "metadata": {
            "needs_background": "light"
          }
        }
      ],
      "source": [
        "plt.imshow(first['pixels'].numpy(),cmap='gray',aspect='equal')\n",
        "plt.grid(False)\n",
        "plt.show()"
      ]
    },
    {
      "cell_type": "code",
      "execution_count": null,
      "metadata": {
        "id": "NBvkcbkOIlVy",
        "colab": {
          "base_uri": "https://localhost:8080/",
          "height": 151
        },
        "outputId": "f76bbbfd-1dc9-4ead-b1ef-3a9868c26188"
      },
      "outputs": [
        {
          "output_type": "display_data",
          "data": {
            "text/plain": [
              "<Figure size 1080x216 with 27 Axes>"
            ],
            "image/png": "[encoded data removed]"
          },
          "metadata": {
            "needs_background": "light"
          }
        }
      ],
      "source": [
        "fig=plt.figure(figsize=(15,3))\n",
        "j=1\n",
        "for client in dataset.take(27):\n",
        "  plt.subplot(4,9,j)\n",
        "  plt.imshow(client['pixels'].numpy(), cmap='gray', aspect='equal')\n",
        "  plt.axis('off')\n",
        "  j+=1"
      ]
    },
    {
      "cell_type": "code",
      "execution_count": null,
      "metadata": {
        "id": "ClZBFaBjKMFs",
        "colab": {
          "base_uri": "https://localhost:8080/",
          "height": 303
        },
        "outputId": "7efa3179-fe70-46d9-c90b-85a0661fc98e"
      },
      "outputs": [
        {
          "output_type": "display_data",
          "data": {
            "text/plain": [
              "<Figure size 720x576 with 3 Axes>"
            ],
            "image/png": "[encoded data removed]"
          },
          "metadata": {
            "needs_background": "light"
          }
        }
      ],
      "source": [
        "fig = plt.figure(figsize=(10,8))\n",
        "fig.suptitle('Count per label for 3 clients')\n",
        "for i in range(3):\n",
        "  client_data=train_data.create_tf_dataset_for_client(train_data.client_ids[i])\n",
        "  plot_data=[]\n",
        "  for example in client_data:\n",
        "    plot_data.append(example['label'])\n",
        "  plt.subplot(2, 3, i+1)\n",
        "  plt.title('Client {}'.format(i))\n",
        "  plt.hist(plot_data,bins=[0,1,2,3,4,5,6,7,8,9])"
      ]
    },
    {
      "cell_type": "code",
      "execution_count": null,
      "metadata": {
        "id": "gFbSqdEHSvzi",
        "colab": {
          "base_uri": "https://localhost:8080/",
          "height": 983
        },
        "outputId": "ed8b80e0-5aeb-4a34-bb66-f1d7aec2f746"
      },
      "outputs": [
        {
          "output_type": "display_data",
          "data": {
            "text/plain": [
              "<Figure size 1080x360 with 10 Axes>"
            ],
            "image/png": "[encoded data removed]"
          },
          "metadata": {
            "needs_background": "light"
          }
        },
        {
          "output_type": "display_data",
          "data": {
            "text/plain": [
              "<Figure size 1080x360 with 10 Axes>"
            ],
            "image/png": "[encoded data removed]"
          },
          "metadata": {
            "needs_background": "light"
          }
        },
        {
          "output_type": "display_data",
          "data": {
            "text/plain": [
              "<Figure size 1080x360 with 10 Axes>"
            ],
            "image/png": "[encoded data removed]"
          },
          "metadata": {
            "needs_background": "light"
          }
        }
      ],
      "source": [
        "import collections\n",
        "\n",
        "for i in range(3):\n",
        "  client_data=train_data.create_tf_dataset_for_client(train_data.client_ids[i])\n",
        "  plot_data=collections.defaultdict(list)\n",
        "  for example in client_data:\n",
        "    plot_data[example['label'].numpy()].append(example['pixels'].numpy())\n",
        "  f = plt.figure(i, figsize=(15, 5))\n",
        "  f.suptitle(\"Client #{}'s Mean Image Per Label\".format(i))\n",
        "  for j in range(10):\n",
        "    mean_img = np.mean(plot_data[j], 0)\n",
        "    plt.subplot(2,5,j+1)\n",
        "    plt.imshow(mean_img.reshape((28,28)))\n",
        "    plt.axis('off')"
      ]
    },
    {
      "cell_type": "code",
      "execution_count": null,
      "metadata": {
        "id": "bM0_4BarV3Qj"
      },
      "outputs": [],
      "source": [
        "NUM_CLIENTS = 10\n",
        "BATCH_SIZE = 20\n",
        "\n",
        "def preprocess(dataset):\n",
        "  def batch_format_fn(element):\n",
        "    t = element['pixels']\n",
        "    t = tf.reshape(t,[-1,28,28])\n",
        "    paddings = tf.constant([[0,0], [2, 2], [2, 2]])\n",
        "    t = tf.pad(t,paddings,'CONSTANT',constant_values=0)\n",
        "    return (tf.reshape(t, [-1, 32, 32, 1]), \n",
        "            tf.reshape(element['label'], [-1, 1]))\n",
        "\n",
        "  return dataset.batch(BATCH_SIZE).map(batch_format_fn)"
      ]
    },
    {
      "cell_type": "code",
      "execution_count": null,
      "metadata": {
        "id": "W9j5GhHKZQN7",
        "colab": {
          "base_uri": "https://localhost:8080/"
        },
        "outputId": "7efa2561-61f2-4173-bac7-7620ae339731"
      },
      "outputs": [
        {
          "output_type": "execute_result",
          "data": {
            "text/plain": [
              "(array([[[[0.],\n",
              "          [0.],\n",
              "          [0.],\n",
              "          ...,\n",
              "          [0.],\n",
              "          [0.],\n",
              "          [0.]],\n",
              " \n",
              "         [[0.],\n",
              "          [0.],\n",
              "          [0.],\n",
              "          ...,\n",
              "          [0.],\n",
              "          [0.],\n",
              "          [0.]],\n",
              " \n",
              "         [[0.],\n",
              "          [0.],\n",
              "          [1.],\n",
              "          ...,\n",
              "          [1.],\n",
              "          [0.],\n",
              "          [0.]],\n",
              " \n",
              "         ...,\n",
              " \n",
              "         [[0.],\n",
              "          [0.],\n",
              "          [1.],\n",
              "          ...,\n",
              "          [1.],\n",
              "          [0.],\n",
              "          [0.]],\n",
              " \n",
              "         [[0.],\n",
              "          [0.],\n",
              "          [0.],\n",
              "          ...,\n",
              "          [0.],\n",
              "          [0.],\n",
              "          [0.]],\n",
              " \n",
              "         [[0.],\n",
              "          [0.],\n",
              "          [0.],\n",
              "          ...,\n",
              "          [0.],\n",
              "          [0.],\n",
              "          [0.]]],\n",
              " \n",
              " \n",
              "        [[[0.],\n",
              "          [0.],\n",
              "          [0.],\n",
              "          ...,\n",
              "          [0.],\n",
              "          [0.],\n",
              "          [0.]],\n",
              " \n",
              "         [[0.],\n",
              "          [0.],\n",
              "          [0.],\n",
              "          ...,\n",
              "          [0.],\n",
              "          [0.],\n",
              "          [0.]],\n",
              " \n",
              "         [[0.],\n",
              "          [0.],\n",
              "          [1.],\n",
              "          ...,\n",
              "          [1.],\n",
              "          [0.],\n",
              "          [0.]],\n",
              " \n",
              "         ...,\n",
              " \n",
              "         [[0.],\n",
              "          [0.],\n",
              "          [1.],\n",
              "          ...,\n",
              "          [1.],\n",
              "          [0.],\n",
              "          [0.]],\n",
              " \n",
              "         [[0.],\n",
              "          [0.],\n",
              "          [0.],\n",
              "          ...,\n",
              "          [0.],\n",
              "          [0.],\n",
              "          [0.]],\n",
              " \n",
              "         [[0.],\n",
              "          [0.],\n",
              "          [0.],\n",
              "          ...,\n",
              "          [0.],\n",
              "          [0.],\n",
              "          [0.]]],\n",
              " \n",
              " \n",
              "        [[[0.],\n",
              "          [0.],\n",
              "          [0.],\n",
              "          ...,\n",
              "          [0.],\n",
              "          [0.],\n",
              "          [0.]],\n",
              " \n",
              "         [[0.],\n",
              "          [0.],\n",
              "          [0.],\n",
              "          ...,\n",
              "          [0.],\n",
              "          [0.],\n",
              "          [0.]],\n",
              " \n",
              "         [[0.],\n",
              "          [0.],\n",
              "          [1.],\n",
              "          ...,\n",
              "          [1.],\n",
              "          [0.],\n",
              "          [0.]],\n",
              " \n",
              "         ...,\n",
              " \n",
              "         [[0.],\n",
              "          [0.],\n",
              "          [1.],\n",
              "          ...,\n",
              "          [1.],\n",
              "          [0.],\n",
              "          [0.]],\n",
              " \n",
              "         [[0.],\n",
              "          [0.],\n",
              "          [0.],\n",
              "          ...,\n",
              "          [0.],\n",
              "          [0.],\n",
              "          [0.]],\n",
              " \n",
              "         [[0.],\n",
              "          [0.],\n",
              "          [0.],\n",
              "          ...,\n",
              "          [0.],\n",
              "          [0.],\n",
              "          [0.]]],\n",
              " \n",
              " \n",
              "        ...,\n",
              " \n",
              " \n",
              "        [[[0.],\n",
              "          [0.],\n",
              "          [0.],\n",
              "          ...,\n",
              "          [0.],\n",
              "          [0.],\n",
              "          [0.]],\n",
              " \n",
              "         [[0.],\n",
              "          [0.],\n",
              "          [0.],\n",
              "          ...,\n",
              "          [0.],\n",
              "          [0.],\n",
              "          [0.]],\n",
              " \n",
              "         [[0.],\n",
              "          [0.],\n",
              "          [1.],\n",
              "          ...,\n",
              "          [1.],\n",
              "          [0.],\n",
              "          [0.]],\n",
              " \n",
              "         ...,\n",
              " \n",
              "         [[0.],\n",
              "          [0.],\n",
              "          [1.],\n",
              "          ...,\n",
              "          [1.],\n",
              "          [0.],\n",
              "          [0.]],\n",
              " \n",
              "         [[0.],\n",
              "          [0.],\n",
              "          [0.],\n",
              "          ...,\n",
              "          [0.],\n",
              "          [0.],\n",
              "          [0.]],\n",
              " \n",
              "         [[0.],\n",
              "          [0.],\n",
              "          [0.],\n",
              "          ...,\n",
              "          [0.],\n",
              "          [0.],\n",
              "          [0.]]],\n",
              " \n",
              " \n",
              "        [[[0.],\n",
              "          [0.],\n",
              "          [0.],\n",
              "          ...,\n",
              "          [0.],\n",
              "          [0.],\n",
              "          [0.]],\n",
              " \n",
              "         [[0.],\n",
              "          [0.],\n",
              "          [0.],\n",
              "          ...,\n",
              "          [0.],\n",
              "          [0.],\n",
              "          [0.]],\n",
              " \n",
              "         [[0.],\n",
              "          [0.],\n",
              "          [1.],\n",
              "          ...,\n",
              "          [1.],\n",
              "          [0.],\n",
              "          [0.]],\n",
              " \n",
              "         ...,\n",
              " \n",
              "         [[0.],\n",
              "          [0.],\n",
              "          [1.],\n",
              "          ...,\n",
              "          [1.],\n",
              "          [0.],\n",
              "          [0.]],\n",
              " \n",
              "         [[0.],\n",
              "          [0.],\n",
              "          [0.],\n",
              "          ...,\n",
              "          [0.],\n",
              "          [0.],\n",
              "          [0.]],\n",
              " \n",
              "         [[0.],\n",
              "          [0.],\n",
              "          [0.],\n",
              "          ...,\n",
              "          [0.],\n",
              "          [0.],\n",
              "          [0.]]],\n",
              " \n",
              " \n",
              "        [[[0.],\n",
              "          [0.],\n",
              "          [0.],\n",
              "          ...,\n",
              "          [0.],\n",
              "          [0.],\n",
              "          [0.]],\n",
              " \n",
              "         [[0.],\n",
              "          [0.],\n",
              "          [0.],\n",
              "          ...,\n",
              "          [0.],\n",
              "          [0.],\n",
              "          [0.]],\n",
              " \n",
              "         [[0.],\n",
              "          [0.],\n",
              "          [1.],\n",
              "          ...,\n",
              "          [1.],\n",
              "          [0.],\n",
              "          [0.]],\n",
              " \n",
              "         ...,\n",
              " \n",
              "         [[0.],\n",
              "          [0.],\n",
              "          [1.],\n",
              "          ...,\n",
              "          [1.],\n",
              "          [0.],\n",
              "          [0.]],\n",
              " \n",
              "         [[0.],\n",
              "          [0.],\n",
              "          [0.],\n",
              "          ...,\n",
              "          [0.],\n",
              "          [0.],\n",
              "          [0.]],\n",
              " \n",
              "         [[0.],\n",
              "          [0.],\n",
              "          [0.],\n",
              "          ...,\n",
              "          [0.],\n",
              "          [0.],\n",
              "          [0.]]]], dtype=float32), array([[1],\n",
              "        [0],\n",
              "        [0],\n",
              "        [1],\n",
              "        [1],\n",
              "        [0],\n",
              "        [0],\n",
              "        [1],\n",
              "        [1],\n",
              "        [1],\n",
              "        [1],\n",
              "        [0],\n",
              "        [0],\n",
              "        [0],\n",
              "        [0],\n",
              "        [0],\n",
              "        [0],\n",
              "        [2],\n",
              "        [3],\n",
              "        [6]], dtype=int32))"
            ]
          },
          "metadata": {},
          "execution_count": 25
        }
      ],
      "source": [
        "preprocessed_dataset = preprocess(dataset)\n",
        "\n",
        "mapping=tf.nest.map_structure(lambda x: x.numpy(),next(iter(preprocessed_dataset)))\n",
        "\n",
        "mapping"
      ]
    },
    {
      "cell_type": "code",
      "execution_count": null,
      "metadata": {
        "id": "YVJQsLG3Zu3p"
      },
      "outputs": [],
      "source": [
        "def make_federated_data(client_data, client_ids):\n",
        "  return [preprocess(client_data.create_tf_dataset_for_client(x)) for x in client_ids]"
      ]
    },
    {
      "cell_type": "code",
      "execution_count": null,
      "metadata": {
        "id": "-jBQAXuBdLPc",
        "colab": {
          "base_uri": "https://localhost:8080/"
        },
        "outputId": "60d11319-b8bc-4055-dde9-56bd79da962f"
      },
      "outputs": [
        {
          "output_type": "execute_result",
          "data": {
            "text/plain": [
              "3383"
            ]
          },
          "metadata": {},
          "execution_count": 27
        }
      ],
      "source": [
        "len(train_data.client_ids)"
      ]
    },
    {
      "cell_type": "code",
      "execution_count": null,
      "metadata": {
        "id": "3dBVqiD5c50v"
      },
      "outputs": [],
      "source": [
        "import random\n",
        "random_list = random.sample(range(0,3383),15)\n",
        "sample_clients=[]\n",
        "for i in random_list:\n",
        "  sample_clients.append(train_data.client_ids[i])\n",
        "federated_train_data=make_federated_data(train_data,sample_clients)"
      ]
    },
    {
      "cell_type": "code",
      "source": [
        "federated_train_data"
      ],
      "metadata": {
        "id": "wmC050ur_ikL",
        "colab": {
          "base_uri": "https://localhost:8080/"
        },
        "outputId": "f45c797e-90f4-45fd-e6dd-eb2c433a2a9b"
      },
      "execution_count": null,
      "outputs": [
        {
          "output_type": "execute_result",
          "data": {
            "text/plain": [
              "[<MapDataset element_spec=(TensorSpec(shape=(None, 32, 32, 1), dtype=tf.float32, name=None), TensorSpec(shape=(None, 1), dtype=tf.int32, name=None))>,\n",
              " <MapDataset element_spec=(TensorSpec(shape=(None, 32, 32, 1), dtype=tf.float32, name=None), TensorSpec(shape=(None, 1), dtype=tf.int32, name=None))>,\n",
              " <MapDataset element_spec=(TensorSpec(shape=(None, 32, 32, 1), dtype=tf.float32, name=None), TensorSpec(shape=(None, 1), dtype=tf.int32, name=None))>,\n",
              " <MapDataset element_spec=(TensorSpec(shape=(None, 32, 32, 1), dtype=tf.float32, name=None), TensorSpec(shape=(None, 1), dtype=tf.int32, name=None))>,\n",
              " <MapDataset element_spec=(TensorSpec(shape=(None, 32, 32, 1), dtype=tf.float32, name=None), TensorSpec(shape=(None, 1), dtype=tf.int32, name=None))>,\n",
              " <MapDataset element_spec=(TensorSpec(shape=(None, 32, 32, 1), dtype=tf.float32, name=None), TensorSpec(shape=(None, 1), dtype=tf.int32, name=None))>,\n",
              " <MapDataset element_spec=(TensorSpec(shape=(None, 32, 32, 1), dtype=tf.float32, name=None), TensorSpec(shape=(None, 1), dtype=tf.int32, name=None))>,\n",
              " <MapDataset element_spec=(TensorSpec(shape=(None, 32, 32, 1), dtype=tf.float32, name=None), TensorSpec(shape=(None, 1), dtype=tf.int32, name=None))>,\n",
              " <MapDataset element_spec=(TensorSpec(shape=(None, 32, 32, 1), dtype=tf.float32, name=None), TensorSpec(shape=(None, 1), dtype=tf.int32, name=None))>,\n",
              " <MapDataset element_spec=(TensorSpec(shape=(None, 32, 32, 1), dtype=tf.float32, name=None), TensorSpec(shape=(None, 1), dtype=tf.int32, name=None))>,\n",
              " <MapDataset element_spec=(TensorSpec(shape=(None, 32, 32, 1), dtype=tf.float32, name=None), TensorSpec(shape=(None, 1), dtype=tf.int32, name=None))>,\n",
              " <MapDataset element_spec=(TensorSpec(shape=(None, 32, 32, 1), dtype=tf.float32, name=None), TensorSpec(shape=(None, 1), dtype=tf.int32, name=None))>,\n",
              " <MapDataset element_spec=(TensorSpec(shape=(None, 32, 32, 1), dtype=tf.float32, name=None), TensorSpec(shape=(None, 1), dtype=tf.int32, name=None))>,\n",
              " <MapDataset element_spec=(TensorSpec(shape=(None, 32, 32, 1), dtype=tf.float32, name=None), TensorSpec(shape=(None, 1), dtype=tf.int32, name=None))>,\n",
              " <MapDataset element_spec=(TensorSpec(shape=(None, 32, 32, 1), dtype=tf.float32, name=None), TensorSpec(shape=(None, 1), dtype=tf.int32, name=None))>]"
            ]
          },
          "metadata": {},
          "execution_count": 29
        }
      ]
    },
    {
      "cell_type": "code",
      "execution_count": null,
      "metadata": {
        "id": "l0kkEdMfeMzn",
        "colab": {
          "base_uri": "https://localhost:8080/"
        },
        "outputId": "2498e584-6f9f-4bcf-9bf7-22fcfbd471a8"
      },
      "outputs": [
        {
          "output_type": "stream",
          "name": "stdout",
          "text": [
            "Number of client datasets: 15\n",
            "First dataset: <MapDataset element_spec=(TensorSpec(shape=(None, 32, 32, 1), dtype=tf.float32, name=None), TensorSpec(shape=(None, 1), dtype=tf.int32, name=None))>\n"
          ]
        }
      ],
      "source": [
        "print(f'Number of client datasets: {len(federated_train_data)}')\n",
        "print(f'First dataset: {federated_train_data[0]}')"
      ]
    },
    {
      "cell_type": "code",
      "execution_count": null,
      "metadata": {
        "id": "0OQOjDV6eWju"
      },
      "outputs": [],
      "source": [
        "from tensorflow import keras\n",
        "def create_model():\n",
        "  model = keras.Sequential()\n",
        "  model.add(keras.layers.Conv2D(filters=6, kernel_size=(3, 3), activation='relu', input_shape=(32,32,1)))\n",
        "  model.add(keras.layers.AveragePooling2D())\n",
        "  model.add(keras.layers.Conv2D(filters=16, kernel_size=(3, 3), activation='relu'))\n",
        "  model.add(keras.layers.AveragePooling2D())\n",
        "  model.add(keras.layers.Flatten())\n",
        "  model.add(keras.layers.Dense(units=120, activation='relu'))\n",
        "  model.add(keras.layers.Dense(units=84, activation='relu'))\n",
        "  model.add(keras.layers.Dense(units=10, activation = 'softmax'))\n",
        "  return model"
      ]
    },
    {
      "cell_type": "code",
      "execution_count": null,
      "metadata": {
        "id": "aXpLI1ZrhNbR"
      },
      "outputs": [],
      "source": [
        "def model_fn():\n",
        "  model=create_model()\n",
        "  return tff.learning.from_keras_model(model,input_spec=federated_train_data[0].element_spec,\n",
        "                                       loss=tf.keras.losses.SparseCategoricalCrossentropy(),\n",
        "                                       metrics=[tf.keras.metrics.SparseCategoricalAccuracy()])"
      ]
    },
    {
      "cell_type": "code",
      "execution_count": null,
      "metadata": {
        "id": "RmZY5Wj-_WLt"
      },
      "outputs": [],
      "source": [
        "# Rough Cell\n",
        "model_r = create_model()\n",
        "vars_r = model_r.trainable_variables #A List"
      ]
    },
    {
      "cell_type": "code",
      "execution_count": null,
      "metadata": {
        "id": "U_G0VGaMmUoK"
      },
      "outputs": [],
      "source": [
        "import tensorflow_probability as tfp\n",
        "\n",
        "@tf.function\n",
        "def client_update(model, dataset, server_weights, client_optimizer):\n",
        "\n",
        "  gamma = 1\n",
        "\n",
        "  client_weights = model.trainable_variables\n",
        "  #initial_server_weights = model.trainables\n",
        "  tf.nest.map_structure(lambda x, y: x.assign(y),\n",
        "                        client_weights, server_weights)\n",
        "  for batch in dataset:\n",
        "    with tf.GradientTape() as tape:\n",
        "      outputs = model.forward_pass(batch)\n",
        "\n",
        "    grads = tape.gradient(outputs.loss, client_weights)\n",
        "    grads_and_vars = zip(grads, client_weights)\n",
        "    client_optimizer.apply_gradients(grads_and_vars)\n",
        "\n",
        "  similarity_arr = []  \n",
        "\n",
        "  for i in range(len(client_weights)):\n",
        "    s_w = tf.reshape(server_weights[i], [-1] )\n",
        "    c_w = tf.reshape(client_weights[i], [-1] )\n",
        "    similarity = gamma * tf.norm( s_w - c_w )  # Gaussian Kernel\n",
        "    similarity_arr.append(similarity)\n",
        "\n",
        "  #similarity_arr.append(tf.norm(server_weights[len(clinet_weights - 1)] - client_weights[len(clinet_weights) - 1)] ))\n",
        "\n",
        "  '''\n",
        "  #c_weights=tf.convert_to_tensor(client_weights)\n",
        "  c_weights_0 = tf.convert_to_tensor(client_weights[0])\n",
        "  c_weights_1 = tf.convert_to_tensor(client_weights[1])\n",
        "\n",
        "  #s_weights=tf.convert_to_tensor(server_weights)\n",
        "  s_weights_0 = tf.convert_to_tensor(server_weights[0])\n",
        "  s_weights_1 = tf.convert_to_tensor(server_weights[1])\n",
        "  # Flattening all the 2D matrx to find out the similarity measure\n",
        "  c_w_0_flatten = tf.reshape(c_weights_0, [-1])\n",
        "  c_w_1_flatten = tf.reshape(c_weights_1, [-1])\n",
        "  s_w_0_flatten = tf.reshape(s_weights_0, [-1])\n",
        "  s_w_1_flatten = tf.reshape(s_weights_1, [-1])\n",
        "\n",
        "  similarity_0 = tf.tensordot(s_w_0_flatten, c_w_0_flatten, axes = 1)\n",
        "  similarity_1 = tf.tensordot(s_w_1_flatten, c_w_1_flatten, axes = 1)\n",
        "  similarity = (similarity_0 + similarity_1) / 2 # Avg similarity of the weight matrices of two layers\n",
        "\n",
        "  X0 = tf.subtract(c_w_0_flatten,s_w_0_flatten)\n",
        "  X0_ = tf.transpose(X0)\n",
        "  cov0 = tfp.stats.covariance(x=c_w_0_flatten, y = s_w_0_flatten , sample_axis=0, event_axis=None)\n",
        "  tf.print(X0_.shape)\n",
        "  tf.print(cov0.shape)\n",
        "  cov0 = tf.linalg.inv(cov0)\n",
        "  mah0 = tf.linalg.matmul( a = X0_, b = cov0, transpose_a = True )\n",
        "  mah0 = tf.linalg.matmul(mah0,X0)\n",
        "  mah0 = tf.sqrt(mah0)\n",
        "\n",
        "  X1 = tf.subtract(c_w_1_flatten,s_w_1_flatten)\n",
        "  X1_ = tf.transpose(X1)\n",
        "  cov1 = tfp.stats.covariance(x=c_w_1_flatten, sample_axis=0, event_axis=None)\n",
        "  cov1 = tf.linalg.inv(cov1)\n",
        "  print(X1.shape)\n",
        "  print(cov1.shape)\n",
        "  mah1 = tf.linalg.matmul(X1_,cov1)\n",
        "  mah1 = tf.linalg.matmul(mah1,X1)\n",
        "  mah1 = tf.sqrt(mah1)\n",
        "\n",
        "  similarity = similarity + (mah0 + mah1) / 2\n",
        "\n",
        "  '''\n",
        "\n",
        "  return ( client_weights, similarity_arr )"
      ]
    },
    {
      "cell_type": "code",
      "execution_count": null,
      "metadata": {
        "id": "BkGsWubTCe0F"
      },
      "outputs": [],
      "source": [
        "@tf.function\n",
        "def server_update(model, mean_client_weights):\n",
        "  model_weights = model.trainable_variables\n",
        "  tf.nest.map_structure(lambda x, y: x.assign(y),\n",
        "                        model_weights, mean_client_weights)\n",
        "  return model_weights"
      ]
    },
    {
      "cell_type": "code",
      "execution_count": null,
      "metadata": {
        "id": "JVsm4QWTCfb8"
      },
      "outputs": [],
      "source": [
        "@tff.tf_computation\n",
        "def server_init():\n",
        "  model = model_fn()\n",
        "  return model.trainable_variables\n",
        "\n",
        "@tff.federated_computation\n",
        "def initialize_fn():\n",
        "  return tff.federated_value(server_init(), tff.SERVER)"
      ]
    },
    {
      "cell_type": "code",
      "execution_count": null,
      "metadata": {
        "id": "V6yL74ZOqqJm",
        "colab": {
          "base_uri": "https://localhost:8080/"
        },
        "outputId": "a721bcb0-a6de-45a3-fb14-e42700ad10bc"
      },
      "outputs": [
        {
          "output_type": "stream",
          "name": "stdout",
          "text": [
            "<float32[3,3,1,6],float32[6],float32[3,3,6,16],float32[16],float32[576,120],float32[120],float32[120,84],float32[84],float32[84,10],float32[10]>\n"
          ]
        }
      ],
      "source": [
        "whimsy_model = model_fn()\n",
        "tf_dataset_type = tff.SequenceType(whimsy_model.input_spec)\n",
        "\n",
        "model_weights_type = server_init.type_signature.result\n",
        "print(model_weights_type)"
      ]
    },
    {
      "cell_type": "code",
      "execution_count": null,
      "metadata": {
        "id": "wRRiifc-B0Yg"
      },
      "outputs": [],
      "source": [
        "@tff.tf_computation(tf_dataset_type, model_weights_type)\n",
        "def client_update_fn(tf_dataset, server_weights):\n",
        "  model = model_fn()\n",
        "  client_optimizer = tf.keras.optimizers.SGD(learning_rate=0.15)\n",
        "  return client_update(model, tf_dataset, server_weights, client_optimizer)"
      ]
    },
    {
      "cell_type": "code",
      "execution_count": null,
      "metadata": {
        "id": "9iDVCSKoDWNI"
      },
      "outputs": [],
      "source": [
        "@tff.tf_computation\n",
        "def server_update_fn(mean_client_weights):\n",
        "  model = model_fn()\n",
        "  return server_update(model, mean_client_weights)"
      ]
    },
    {
      "cell_type": "code",
      "execution_count": null,
      "metadata": {
        "id": "iRLk5LfhDck-"
      },
      "outputs": [],
      "source": [
        "federated_server_type = tff.FederatedType(model_weights_type, tff.SERVER)\n",
        "federated_dataset_type = tff.FederatedType(tf_dataset_type, tff.CLIENTS)"
      ]
    },
    {
      "cell_type": "code",
      "execution_count": null,
      "metadata": {
        "id": "diSsccwtDiDF"
      },
      "outputs": [],
      "source": [
        "@tff.federated_computation(federated_server_type, federated_dataset_type)\n",
        "def next_fn(server_weights, federated_dataset):\n",
        "  server_weights_at_client = tff.federated_broadcast(server_weights)\n",
        "  #c_weights\n",
        "  ( client_weights, similarity_arr ) = tff.federated_map( client_update_fn, ( federated_dataset, server_weights_at_client ) )\n",
        "  #similarity = 1\n",
        "  #attentions=client_update_fn(federated_dataset, server_weights_at_client)[1]\n",
        "  #client_weights = tff.federated_map(c_weights,(federated_dataset, server_weights_at_client))\n",
        "  #attentions = tff.federated_map(attentions,(federated_dataset, server_weights_at_client))\n",
        "  #mean_client_weights = tff.federated_sum(attentions)\n",
        "  mean_client_weights = []\n",
        "  for i in range( len( client_weights ) ):\n",
        "    mean_client_weights.append( tff.federated_mean( client_weights[i], similarity_arr[i] ) )\n",
        "  #mean_client_weights = tff.federated_mean(client_weights, similarity)\n",
        "  server_weights = tff.federated_map(server_update_fn, mean_client_weights)\n",
        "\n",
        "  return server_weights"
      ]
    },
    {
      "cell_type": "code",
      "execution_count": null,
      "metadata": {
        "id": "OR9GuVrRGkc_"
      },
      "outputs": [],
      "source": [
        "federated_algorithm = tff.templates.IterativeProcess(\n",
        "    initialize_fn=initialize_fn,\n",
        "    next_fn=next_fn\n",
        ")"
      ]
    },
    {
      "cell_type": "code",
      "execution_count": null,
      "metadata": {
        "id": "s-_I59kIGsjt",
        "colab": {
          "base_uri": "https://localhost:8080/",
          "height": 52
        },
        "outputId": "2a0031ce-ecd7-4d2c-d100-24d0b3b187d6"
      },
      "outputs": [
        {
          "output_type": "execute_result",
          "data": {
            "text/plain": [
              "'( -> <float32[3,3,1,6],float32[6],float32[3,3,6,16],float32[16],float32[576,120],float32[120],float32[120,84],float32[84],float32[84,10],float32[10]>@SERVER)'"
            ],
            "application/vnd.google.colaboratory.intrinsic+json": {
              "type": "string"
            }
          },
          "metadata": {},
          "execution_count": 80
        }
      ],
      "source": [
        "str(federated_algorithm.initialize.type_signature)"
      ]
    },
    {
      "cell_type": "code",
      "execution_count": null,
      "metadata": {
        "id": "VWVJnrKDSJWy",
        "colab": {
          "base_uri": "https://localhost:8080/",
          "height": 70
        },
        "outputId": "7fa2ad0c-adb6-45f7-b399-0882d5ee70b7"
      },
      "outputs": [
        {
          "output_type": "execute_result",
          "data": {
            "text/plain": [
              "'(<server_weights=<float32[3,3,1,6],float32[6],float32[3,3,6,16],float32[16],float32[576,120],float32[120],float32[120,84],float32[84],float32[84,10],float32[10]>@SERVER,federated_dataset={<float32[?,32,32,1],int32[?,1]>*}@CLIENTS> -> <float32[3,3,1,6],float32[6],float32[3,3,6,16],float32[16],float32[576,120],float32[120],float32[120,84],float32[84],float32[84,10],float32[10]>@SERVER)'"
            ],
            "application/vnd.google.colaboratory.intrinsic+json": {
              "type": "string"
            }
          },
          "metadata": {},
          "execution_count": 81
        }
      ],
      "source": [
        "str(federated_algorithm.next.type_signature)"
      ]
    },
    {
      "cell_type": "markdown",
      "metadata": {
        "id": "GIBcRtRvSZD0"
      },
      "source": [
        "#### Evaluating the Algorithm"
      ]
    },
    {
      "cell_type": "code",
      "execution_count": null,
      "metadata": {
        "id": "fDX1AdSISLcU"
      },
      "outputs": [],
      "source": [
        "emnist_train, emnist_test = tff.simulation.datasets.emnist.load_data()\n",
        "central_emnist_test = emnist_test.create_tf_dataset_from_all_clients()\n",
        "central_emnist_test = preprocess(central_emnist_test)"
      ]
    },
    {
      "cell_type": "code",
      "execution_count": null,
      "metadata": {
        "id": "GVk-JIvuT6_k",
        "colab": {
          "base_uri": "https://localhost:8080/"
        },
        "outputId": "ff96d2d8-8f85-48a8-a7b9-2b4de9487cd6"
      },
      "outputs": [
        {
          "output_type": "execute_result",
          "data": {
            "text/plain": [
              "<MapDataset element_spec=(TensorSpec(shape=(None, 32, 32, 1), dtype=tf.float32, name=None), TensorSpec(shape=(None, 1), dtype=tf.int32, name=None))>"
            ]
          },
          "metadata": {},
          "execution_count": 83
        }
      ],
      "source": [
        "central_emnist_test"
      ]
    },
    {
      "cell_type": "code",
      "execution_count": null,
      "metadata": {
        "id": "tw277qw0SdpL"
      },
      "outputs": [],
      "source": [
        "def evaluate(server_state):\n",
        "  keras_model = create_model()\n",
        "  keras_model.compile(\n",
        "      loss=tf.keras.losses.SparseCategoricalCrossentropy(),\n",
        "      metrics=[tf.keras.metrics.SparseCategoricalAccuracy()]  \n",
        "  )\n",
        "  keras_model.set_weights(server_state)\n",
        "  keras_model.evaluate(central_emnist_test)"
      ]
    },
    {
      "cell_type": "code",
      "execution_count": null,
      "metadata": {
        "id": "yUM_E6dQSuRu",
        "colab": {
          "base_uri": "https://localhost:8080/"
        },
        "outputId": "67c60058-f175-4d51-b43b-e699fa54aff5"
      },
      "outputs": [
        {
          "output_type": "stream",
          "name": "stdout",
          "text": [
            "2042/2042 [==============================] - 8s 4ms/step - loss: 2.3019 - sparse_categorical_accuracy: 0.1007\n"
          ]
        }
      ],
      "source": [
        "server_state = federated_algorithm.initialize()\n",
        "evaluate(server_state)"
      ]
    },
    {
      "cell_type": "code",
      "execution_count": null,
      "metadata": {
        "id": "0jVTi5INUJx8",
        "colab": {
          "base_uri": "https://localhost:8080/"
        },
        "outputId": "bcdb57de-5b32-4b46-c5dc-772b0005268a"
      },
      "outputs": [
        {
          "output_type": "stream",
          "name": "stdout",
          "text": [
            "2042/2042 [==============================] - 8s 4ms/step - loss: 2.3016 - sparse_categorical_accuracy: 0.1110\n",
            "2042/2042 [==============================] - 8s 4ms/step - loss: 2.3015 - sparse_categorical_accuracy: 0.1075\n",
            "2042/2042 [==============================] - 8s 4ms/step - loss: 2.3008 - sparse_categorical_accuracy: 0.1327\n",
            "2042/2042 [==============================] - 8s 4ms/step - loss: 2.3003 - sparse_categorical_accuracy: 0.1383\n",
            "2042/2042 [==============================] - 8s 4ms/step - loss: 2.3005 - sparse_categorical_accuracy: 0.1037\n",
            "2042/2042 [==============================] - 8s 4ms/step - loss: 2.2993 - sparse_categorical_accuracy: 0.1278\n",
            "2042/2042 [==============================] - 8s 4ms/step - loss: 2.2997 - sparse_categorical_accuracy: 0.1072\n",
            "2042/2042 [==============================] - 8s 4ms/step - loss: 2.2985 - sparse_categorical_accuracy: 0.1413\n",
            "2042/2042 [==============================] - 8s 4ms/step - loss: 2.2981 - sparse_categorical_accuracy: 0.1028\n",
            "2042/2042 [==============================] - 8s 4ms/step - loss: 2.2977 - sparse_categorical_accuracy: 0.1291\n",
            "2042/2042 [==============================] - 8s 4ms/step - loss: 2.2974 - sparse_categorical_accuracy: 0.1177\n",
            "2042/2042 [==============================] - 8s 4ms/step - loss: 2.2982 - sparse_categorical_accuracy: 0.1162\n",
            "2042/2042 [==============================] - 8s 4ms/step - loss: 2.2973 - sparse_categorical_accuracy: 0.1868\n",
            "2042/2042 [==============================] - 8s 4ms/step - loss: 2.2998 - sparse_categorical_accuracy: 0.1055\n",
            "2042/2042 [==============================] - 8s 4ms/step - loss: 2.2962 - sparse_categorical_accuracy: 0.1939\n",
            "2042/2042 [==============================] - 8s 4ms/step - loss: 2.2941 - sparse_categorical_accuracy: 0.2025\n",
            "2042/2042 [==============================] - 8s 4ms/step - loss: 2.2918 - sparse_categorical_accuracy: 0.1946\n",
            "2042/2042 [==============================] - 8s 4ms/step - loss: 2.2944 - sparse_categorical_accuracy: 0.1810\n",
            "2042/2042 [==============================] - 8s 4ms/step - loss: 2.2900 - sparse_categorical_accuracy: 0.1943\n",
            "2042/2042 [==============================] - 8s 4ms/step - loss: 2.2873 - sparse_categorical_accuracy: 0.1938\n",
            "2042/2042 [==============================] - 8s 4ms/step - loss: 2.2858 - sparse_categorical_accuracy: 0.1936\n",
            "2042/2042 [==============================] - 8s 4ms/step - loss: 2.2822 - sparse_categorical_accuracy: 0.1958\n",
            "2042/2042 [==============================] - 8s 4ms/step - loss: 2.2786 - sparse_categorical_accuracy: 0.1961\n",
            "2042/2042 [==============================] - 8s 4ms/step - loss: 2.2798 - sparse_categorical_accuracy: 0.2035\n",
            "2042/2042 [==============================] - 8s 4ms/step - loss: 2.2729 - sparse_categorical_accuracy: 0.1950\n",
            "2042/2042 [==============================] - 8s 4ms/step - loss: 2.2684 - sparse_categorical_accuracy: 0.1946\n",
            "2042/2042 [==============================] - 8s 4ms/step - loss: 2.2651 - sparse_categorical_accuracy: 0.1955\n",
            "2042/2042 [==============================] - 8s 4ms/step - loss: 2.2695 - sparse_categorical_accuracy: 0.1963\n",
            "2042/2042 [==============================] - 8s 4ms/step - loss: 2.2628 - sparse_categorical_accuracy: 0.1994\n",
            "2042/2042 [==============================] - 8s 4ms/step - loss: 2.2466 - sparse_categorical_accuracy: 0.2057\n",
            "2042/2042 [==============================] - 8s 4ms/step - loss: 2.2365 - sparse_categorical_accuracy: 0.1979\n",
            "2042/2042 [==============================] - 8s 4ms/step - loss: 2.2181 - sparse_categorical_accuracy: 0.2011\n",
            "2042/2042 [==============================] - 8s 4ms/step - loss: 2.2300 - sparse_categorical_accuracy: 0.2155\n",
            "2042/2042 [==============================] - 8s 4ms/step - loss: 2.1872 - sparse_categorical_accuracy: 0.2106\n",
            "2042/2042 [==============================] - 8s 4ms/step - loss: 2.1413 - sparse_categorical_accuracy: 0.2116\n",
            "2042/2042 [==============================] - 8s 4ms/step - loss: 2.0864 - sparse_categorical_accuracy: 0.2752\n",
            "2042/2042 [==============================] - 8s 4ms/step - loss: 2.0561 - sparse_categorical_accuracy: 0.3163\n",
            "2042/2042 [==============================] - 8s 4ms/step - loss: 2.0294 - sparse_categorical_accuracy: 0.3558\n",
            "2042/2042 [==============================] - 8s 4ms/step - loss: 1.9814 - sparse_categorical_accuracy: 0.3417\n",
            "2042/2042 [==============================] - 8s 4ms/step - loss: 1.8012 - sparse_categorical_accuracy: 0.3790\n",
            "2042/2042 [==============================] - 8s 4ms/step - loss: 1.9833 - sparse_categorical_accuracy: 0.2933\n",
            "2042/2042 [==============================] - 8s 4ms/step - loss: 1.6413 - sparse_categorical_accuracy: 0.4041\n",
            "2042/2042 [==============================] - 8s 4ms/step - loss: 1.9251 - sparse_categorical_accuracy: 0.3416\n",
            "2042/2042 [==============================] - 8s 4ms/step - loss: 2.3334 - sparse_categorical_accuracy: 0.1129\n",
            "2042/2042 [==============================] - 8s 4ms/step - loss: 2.3326 - sparse_categorical_accuracy: 0.0980\n",
            "2042/2042 [==============================] - 8s 4ms/step - loss: 2.2484 - sparse_categorical_accuracy: 0.2967\n",
            "2042/2042 [==============================] - 8s 4ms/step - loss: 2.3049 - sparse_categorical_accuracy: 0.1222\n",
            "2042/2042 [==============================] - 8s 4ms/step - loss: 2.2990 - sparse_categorical_accuracy: 0.1054\n",
            "2042/2042 [==============================] - 8s 4ms/step - loss: 2.2875 - sparse_categorical_accuracy: 0.1147\n",
            "2042/2042 [==============================] - 8s 4ms/step - loss: 2.2600 - sparse_categorical_accuracy: 0.1345\n",
            "2042/2042 [==============================] - 8s 4ms/step - loss: 2.1895 - sparse_categorical_accuracy: 0.1713\n",
            "2042/2042 [==============================] - 8s 4ms/step - loss: 1.9492 - sparse_categorical_accuracy: 0.3241\n",
            "2042/2042 [==============================] - 8s 4ms/step - loss: 2.3253 - sparse_categorical_accuracy: 0.1152\n",
            "2042/2042 [==============================] - 8s 4ms/step - loss: 2.2084 - sparse_categorical_accuracy: 0.1641\n",
            "2042/2042 [==============================] - 8s 4ms/step - loss: 2.1502 - sparse_categorical_accuracy: 0.2632\n",
            "2042/2042 [==============================] - 8s 4ms/step - loss: 1.8271 - sparse_categorical_accuracy: 0.3185\n",
            "2042/2042 [==============================] - 9s 4ms/step - loss: 2.1736 - sparse_categorical_accuracy: 0.2106\n",
            "2042/2042 [==============================] - 8s 4ms/step - loss: 1.8118 - sparse_categorical_accuracy: 0.4103\n",
            "2042/2042 [==============================] - 8s 4ms/step - loss: 1.8211 - sparse_categorical_accuracy: 0.4675\n",
            "2042/2042 [==============================] - 8s 4ms/step - loss: 1.6149 - sparse_categorical_accuracy: 0.4360\n",
            "2042/2042 [==============================] - 8s 4ms/step - loss: 1.4145 - sparse_categorical_accuracy: 0.5075\n",
            "2042/2042 [==============================] - 8s 4ms/step - loss: 1.3493 - sparse_categorical_accuracy: 0.5328\n",
            "2042/2042 [==============================] - 8s 4ms/step - loss: 1.5090 - sparse_categorical_accuracy: 0.4863\n",
            "2042/2042 [==============================] - 8s 4ms/step - loss: 1.5430 - sparse_categorical_accuracy: 0.4953\n",
            "2042/2042 [==============================] - 8s 4ms/step - loss: 1.3693 - sparse_categorical_accuracy: 0.5263\n",
            "2042/2042 [==============================] - 8s 4ms/step - loss: 1.2611 - sparse_categorical_accuracy: 0.5643\n",
            "2042/2042 [==============================] - 8s 4ms/step - loss: 1.2417 - sparse_categorical_accuracy: 0.5706\n",
            "2042/2042 [==============================] - 8s 4ms/step - loss: 1.2086 - sparse_categorical_accuracy: 0.5827\n",
            "2042/2042 [==============================] - 8s 4ms/step - loss: 1.1932 - sparse_categorical_accuracy: 0.5906\n",
            "2042/2042 [==============================] - 8s 4ms/step - loss: 1.1554 - sparse_categorical_accuracy: 0.6071\n",
            "2042/2042 [==============================] - 8s 4ms/step - loss: 1.1786 - sparse_categorical_accuracy: 0.5973\n",
            "2042/2042 [==============================] - 8s 4ms/step - loss: 1.1120 - sparse_categorical_accuracy: 0.6277\n",
            "2042/2042 [==============================] - 8s 4ms/step - loss: 1.1307 - sparse_categorical_accuracy: 0.6202\n",
            "2042/2042 [==============================] - 8s 4ms/step - loss: 1.0682 - sparse_categorical_accuracy: 0.6433\n",
            "2042/2042 [==============================] - 8s 4ms/step - loss: 1.0841 - sparse_categorical_accuracy: 0.6385\n",
            "2042/2042 [==============================] - 8s 4ms/step - loss: 1.0478 - sparse_categorical_accuracy: 0.6638\n",
            "2042/2042 [==============================] - 8s 4ms/step - loss: 1.0497 - sparse_categorical_accuracy: 0.6526\n",
            "2042/2042 [==============================] - 8s 4ms/step - loss: 1.0066 - sparse_categorical_accuracy: 0.6687\n",
            "2042/2042 [==============================] - 8s 4ms/step - loss: 1.0389 - sparse_categorical_accuracy: 0.6525\n",
            "2042/2042 [==============================] - 8s 4ms/step - loss: 0.9953 - sparse_categorical_accuracy: 0.6741\n",
            "2042/2042 [==============================] - 8s 4ms/step - loss: 0.9820 - sparse_categorical_accuracy: 0.6784\n",
            "2042/2042 [==============================] - 8s 4ms/step - loss: 0.9231 - sparse_categorical_accuracy: 0.7008\n",
            "2042/2042 [==============================] - 8s 4ms/step - loss: 0.9365 - sparse_categorical_accuracy: 0.7005\n",
            "2042/2042 [==============================] - 8s 4ms/step - loss: 0.9291 - sparse_categorical_accuracy: 0.6961\n",
            "2042/2042 [==============================] - 8s 4ms/step - loss: 0.9027 - sparse_categorical_accuracy: 0.7053\n",
            "2042/2042 [==============================] - 8s 4ms/step - loss: 0.8774 - sparse_categorical_accuracy: 0.7131\n",
            "2042/2042 [==============================] - 8s 4ms/step - loss: 0.8796 - sparse_categorical_accuracy: 0.7107\n",
            "2042/2042 [==============================] - 8s 4ms/step - loss: 0.8627 - sparse_categorical_accuracy: 0.7165\n",
            "2042/2042 [==============================] - 8s 4ms/step - loss: 0.8511 - sparse_categorical_accuracy: 0.7203\n",
            "2042/2042 [==============================] - 8s 4ms/step - loss: 0.8418 - sparse_categorical_accuracy: 0.7237\n",
            "2042/2042 [==============================] - 8s 4ms/step - loss: 0.8346 - sparse_categorical_accuracy: 0.7264\n",
            "2042/2042 [==============================] - 8s 4ms/step - loss: 0.8155 - sparse_categorical_accuracy: 0.7336\n",
            "2042/2042 [==============================] - 8s 4ms/step - loss: 0.8107 - sparse_categorical_accuracy: 0.7350\n",
            "2042/2042 [==============================] - 8s 4ms/step - loss: 0.8150 - sparse_categorical_accuracy: 0.7331\n",
            "2042/2042 [==============================] - 8s 4ms/step - loss: 0.8052 - sparse_categorical_accuracy: 0.7364\n",
            "2042/2042 [==============================] - 8s 4ms/step - loss: 0.7919 - sparse_categorical_accuracy: 0.7410\n",
            "2042/2042 [==============================] - 8s 4ms/step - loss: 0.7723 - sparse_categorical_accuracy: 0.7488\n",
            "2042/2042 [==============================] - 8s 4ms/step - loss: 0.7761 - sparse_categorical_accuracy: 0.7465\n",
            "2042/2042 [==============================] - 8s 4ms/step - loss: 0.7725 - sparse_categorical_accuracy: 0.7488\n",
            "2042/2042 [==============================] - 8s 4ms/step - loss: 0.7613 - sparse_categorical_accuracy: 0.7531\n"
          ]
        }
      ],
      "source": [
        "for round in range(100):\n",
        "  server_state = federated_algorithm.next(server_state, federated_train_data)\n",
        "  evaluate(server_state)"
      ]
    },
    {
      "cell_type": "code",
      "execution_count": null,
      "metadata": {
        "id": "QEGmqpI4Sxb7",
        "colab": {
          "base_uri": "https://localhost:8080/"
        },
        "outputId": "24d1d27a-b702-47b2-d5b2-54270b48be48"
      },
      "outputs": [
        {
          "output_type": "stream",
          "name": "stdout",
          "text": [
            "2042/2042 [==============================] - 9s 4ms/step - loss: 0.7514 - sparse_categorical_accuracy: 0.7571\n",
            "2042/2042 [==============================] - 8s 4ms/step - loss: 0.7471 - sparse_categorical_accuracy: 0.7596\n",
            "2042/2042 [==============================] - 8s 4ms/step - loss: 0.7409 - sparse_categorical_accuracy: 0.7623\n",
            "2042/2042 [==============================] - 8s 4ms/step - loss: 0.7353 - sparse_categorical_accuracy: 0.7633\n",
            "2042/2042 [==============================] - 8s 4ms/step - loss: 0.7292 - sparse_categorical_accuracy: 0.7658\n",
            "2042/2042 [==============================] - 8s 4ms/step - loss: 0.7233 - sparse_categorical_accuracy: 0.7680\n",
            "2042/2042 [==============================] - 8s 4ms/step - loss: 0.7174 - sparse_categorical_accuracy: 0.7716\n",
            "2042/2042 [==============================] - 8s 4ms/step - loss: 0.7203 - sparse_categorical_accuracy: 0.7700\n",
            "2042/2042 [==============================] - 8s 4ms/step - loss: 0.7109 - sparse_categorical_accuracy: 0.7734\n",
            "2042/2042 [==============================] - 8s 4ms/step - loss: 0.7138 - sparse_categorical_accuracy: 0.7740\n",
            "2042/2042 [==============================] - 8s 4ms/step - loss: 0.7049 - sparse_categorical_accuracy: 0.7760\n",
            "2042/2042 [==============================] - 8s 4ms/step - loss: 0.7023 - sparse_categorical_accuracy: 0.7779\n",
            "2042/2042 [==============================] - 8s 4ms/step - loss: 0.7095 - sparse_categorical_accuracy: 0.7750\n",
            "2042/2042 [==============================] - 8s 4ms/step - loss: 0.6885 - sparse_categorical_accuracy: 0.7832\n",
            "2042/2042 [==============================] - 8s 4ms/step - loss: 0.6904 - sparse_categorical_accuracy: 0.7838\n"
          ]
        }
      ],
      "source": [
        "for round in range(15):\n",
        "  server_state = federated_algorithm.next(server_state, federated_train_data)\n",
        "  evaluate(server_state)"
      ]
    },
    {
      "cell_type": "code",
      "source": [
        "for round in range(15):\n",
        "  server_state = federated_algorithm.next(server_state, federated_train_data)\n",
        "  evaluate(server_state)"
      ],
      "metadata": {
        "id": "gw7Wmfkm6rq5",
        "colab": {
          "base_uri": "https://localhost:8080/"
        },
        "outputId": "ce7dcfd7-4041-4f9a-e165-5bf4c2c02be3"
      },
      "execution_count": null,
      "outputs": [
        {
          "output_type": "stream",
          "name": "stdout",
          "text": [
            "2042/2042 [==============================] - 8s 4ms/step - loss: 0.6869 - sparse_categorical_accuracy: 0.7845\n",
            "2042/2042 [==============================] - 8s 4ms/step - loss: 0.6913 - sparse_categorical_accuracy: 0.7818\n",
            "2042/2042 [==============================] - 8s 4ms/step - loss: 0.6764 - sparse_categorical_accuracy: 0.7891\n",
            "2042/2042 [==============================] - 8s 4ms/step - loss: 0.6785 - sparse_categorical_accuracy: 0.7891\n",
            "2042/2042 [==============================] - 8s 4ms/step - loss: 0.6756 - sparse_categorical_accuracy: 0.7889\n",
            "2042/2042 [==============================] - 8s 4ms/step - loss: 0.6740 - sparse_categorical_accuracy: 0.7930\n",
            "2042/2042 [==============================] - 8s 4ms/step - loss: 0.6593 - sparse_categorical_accuracy: 0.7982\n",
            "2042/2042 [==============================] - 8s 4ms/step - loss: 0.6729 - sparse_categorical_accuracy: 0.7895\n",
            "2042/2042 [==============================] - 9s 4ms/step - loss: 0.6697 - sparse_categorical_accuracy: 0.7889\n",
            "2042/2042 [==============================] - 8s 4ms/step - loss: 0.6499 - sparse_categorical_accuracy: 0.7992\n",
            "2042/2042 [==============================] - 8s 4ms/step - loss: 0.6532 - sparse_categorical_accuracy: 0.8019\n",
            "2042/2042 [==============================] - 8s 4ms/step - loss: 0.6530 - sparse_categorical_accuracy: 0.8006\n",
            "2042/2042 [==============================] - 8s 4ms/step - loss: 0.6509 - sparse_categorical_accuracy: 0.8022\n",
            "2042/2042 [==============================] - 8s 4ms/step - loss: 0.6634 - sparse_categorical_accuracy: 0.7916\n",
            "2042/2042 [==============================] - 8s 4ms/step - loss: 0.6382 - sparse_categorical_accuracy: 0.8036\n"
          ]
        }
      ]
    },
    {
      "cell_type": "code",
      "source": [
        "evaluate(server_state)"
      ],
      "metadata": {
        "colab": {
          "base_uri": "https://localhost:8080/"
        },
        "id": "D6nWxoUjuAaf",
        "outputId": "f6695943-e317-43c2-bcc5-cf96d2818f1d"
      },
      "execution_count": null,
      "outputs": [
        {
          "output_type": "stream",
          "name": "stdout",
          "text": [
            "2042/2042 [==============================] - 10s 5ms/step - loss: 0.6382 - sparse_categorical_accuracy: 0.8036\n"
          ]
        }
      ]
    }
  ],
  "metadata": {
    "accelerator": "GPU",
    "colab": {
      "collapsed_sections": [],
      "name": "Copy of FL_Image_Classification_EMNIST(Pad).ipynb",
      "provenance": []
    },
    "gpuClass": "standard",
    "kernelspec": {
      "display_name": "Python 3",
      "name": "python3"
    },
    "language_info": {
      "name": "python"
    }
  },
  "nbformat": 4,
  "nbformat_minor": 0
}